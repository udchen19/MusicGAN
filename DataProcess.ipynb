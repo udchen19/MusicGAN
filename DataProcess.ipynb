{
 "cells": [
  {
   "cell_type": "code",
   "execution_count": 1,
   "metadata": {
    "colab": {
     "base_uri": "https://localhost:8080/"
    },
    "id": "RNxMZpd1WpJc",
    "outputId": "cd24ffae-9581-405c-e382-b54a84dbba5e"
   },
   "outputs": [
    {
     "name": "stdout",
     "output_type": "stream",
     "text": [
      "Requirement already satisfied: muspy in c:\\users\\user\\anaconda3\\lib\\site-packages (0.3.0)\n",
      "Requirement already satisfied: pretty-midi>=0.2 in c:\\users\\user\\anaconda3\\lib\\site-packages (from muspy) (0.2.9)\n",
      "Requirement already satisfied: mido>=1.0 in c:\\users\\user\\anaconda3\\lib\\site-packages (from muspy) (1.2.10)\n",
      "Requirement already satisfied: pypianoroll>=1.0 in c:\\users\\user\\anaconda3\\lib\\site-packages (from muspy) (1.0.4)\n",
      "Requirement already satisfied: joblib>=0.15 in c:\\users\\user\\anaconda3\\lib\\site-packages (from muspy) (1.0.1)\n",
      "Requirement already satisfied: PyYAML>=3.0 in c:\\users\\user\\anaconda3\\lib\\site-packages (from muspy) (5.4.1)\n",
      "Requirement already satisfied: music21>=5.0 in c:\\users\\user\\anaconda3\\lib\\site-packages (from muspy) (6.7.1)\n",
      "Requirement already satisfied: matplotlib>=1.5 in c:\\users\\user\\anaconda3\\lib\\site-packages (from muspy) (3.3.4)\n",
      "Requirement already satisfied: tqdm>=4.0 in c:\\users\\user\\anaconda3\\lib\\site-packages (from muspy) (4.59.0)\n",
      "Requirement already satisfied: requests>=2.0 in c:\\users\\user\\anaconda3\\lib\\site-packages (from muspy) (2.25.1)\n",
      "Requirement already satisfied: pyparsing!=2.0.4,!=2.1.2,!=2.1.6,>=2.0.3 in c:\\users\\user\\anaconda3\\lib\\site-packages (from matplotlib>=1.5->muspy) (2.4.7)\n",
      "Requirement already satisfied: pillow>=6.2.0 in c:\\users\\user\\anaconda3\\lib\\site-packages (from matplotlib>=1.5->muspy) (8.2.0)\n",
      "Requirement already satisfied: kiwisolver>=1.0.1 in c:\\users\\user\\anaconda3\\lib\\site-packages (from matplotlib>=1.5->muspy) (1.3.1)\n",
      "Requirement already satisfied: cycler>=0.10 in c:\\users\\user\\anaconda3\\lib\\site-packages (from matplotlib>=1.5->muspy) (0.10.0)\n",
      "Requirement already satisfied: numpy>=1.15 in c:\\users\\user\\anaconda3\\lib\\site-packages (from matplotlib>=1.5->muspy) (1.20.3)\n",
      "Requirement already satisfied: python-dateutil>=2.1 in c:\\users\\user\\anaconda3\\lib\\site-packages (from matplotlib>=1.5->muspy) (2.8.1)\n",
      "Requirement already satisfied: six in c:\\users\\user\\anaconda3\\lib\\site-packages (from cycler>=0.10->matplotlib>=1.5->muspy) (1.15.0)\n",
      "Requirement already satisfied: webcolors in c:\\users\\user\\anaconda3\\lib\\site-packages (from music21>=5.0->muspy) (1.11.1)\n",
      "Requirement already satisfied: more-itertools in c:\\users\\user\\anaconda3\\lib\\site-packages (from music21>=5.0->muspy) (8.7.0)\n",
      "Requirement already satisfied: chardet in c:\\users\\user\\anaconda3\\lib\\site-packages (from music21>=5.0->muspy) (4.0.0)\n",
      "Requirement already satisfied: scipy>=1.0.0 in c:\\users\\user\\anaconda3\\lib\\site-packages (from pypianoroll>=1.0->muspy) (1.6.2)\n",
      "Requirement already satisfied: idna<3,>=2.5 in c:\\users\\user\\anaconda3\\lib\\site-packages (from requests>=2.0->muspy) (2.10)\n",
      "Requirement already satisfied: certifi>=2017.4.17 in c:\\users\\user\\anaconda3\\lib\\site-packages (from requests>=2.0->muspy) (2020.12.5)\n",
      "Requirement already satisfied: urllib3<1.27,>=1.21.1 in c:\\users\\user\\anaconda3\\lib\\site-packages (from requests>=2.0->muspy) (1.26.4)\n"
     ]
    }
   ],
   "source": [
    "!pip install muspy"
   ]
  },
  {
   "cell_type": "code",
   "execution_count": 2,
   "metadata": {
    "colab": {
     "base_uri": "https://localhost:8080/"
    },
    "id": "xZrLsBlSWlxE",
    "outputId": "3878beac-05ed-4c5d-fce7-98a3b5d4964e"
   },
   "outputs": [
    {
     "name": "stdout",
     "output_type": "stream",
     "text": [
      "Downloading source : http://www-etud.iro.umontreal.ca/~boulanni/JSB%20Chorales.zip ...\n"
     ]
    },
    {
     "name": "stderr",
     "output_type": "stream",
     "text": [
      "3096576it [00:03, 811167.52it/s]                                                                                       \n"
     ]
    },
    {
     "name": "stdout",
     "output_type": "stream",
     "text": [
      "Successfully downloaded source : C:\\Users\\USER\\Desktop\\aa\\ai project\\music_data\\JSB Chorales.zip .\n",
      "Extracting archive : C:\\Users\\USER\\Desktop\\aa\\ai project\\music_data\\JSB Chorales.zip ...\n",
      "Successfully extracted archive : C:\\Users\\USER\\Desktop\\aa\\ai project\\music_data .\n"
     ]
    }
   ],
   "source": [
    "import muspy\n",
    "import torch\n",
    "from torch.utils.data import DataLoader\n",
    "\n",
    "#need create file \"music_data/processed\" first\n",
    "data_path = \"./music_data\"\n",
    "pr_data_path = \"./music_data/processed/\"\n",
    "\n",
    "# Download and extract the dataset\n",
    "jsb = muspy.datasets.JSBChoralesDataset(data_path, download_and_extract=True)\n",
    "\n",
    "for i, music in enumerate(jsb):\n",
    "    music.adjust_resolution(4)\n",
    "    music.save(f\"{pr_data_path}{i}.json\")\n",
    "\n",
    "psd = muspy.MusicDataset(pr_data_path)\n",
    "\n",
    "dataset = psd.to_pytorch_dataset(representation=\"pianoroll\")"
   ]
  },
  {
   "cell_type": "code",
   "execution_count": 3,
   "metadata": {
    "id": "NYjiBiqhW8hE"
   },
   "outputs": [
    {
     "name": "stdout",
     "output_type": "stream",
     "text": [
      "11418 11418\n"
     ]
    }
   ],
   "source": [
    "data = list()\n",
    "# use Dataloader extract data\n",
    "dataloader = DataLoader(dataset, batch_size=1, shuffle=False)\n",
    "cnt=0\n",
    "\n",
    "condInput = list()\n",
    "genInput = list()\n",
    "bar = 1\n",
    "\n",
    "for it in dataloader:\n",
    "    it = it.squeeze(0)\n",
    "    condInput.append(torch.zeros(128, 16*bar, dtype=int))\n",
    "    for i in range(it.shape[0]//(16*bar)):\n",
    "        piece = torch.transpose(it[16*bar*i:16*bar*(i+1), :], 0, 1)\n",
    "        piece = piece.int()\n",
    "        condInput.append(piece)\n",
    "        genInput.append(piece)\n",
    "    condInput.pop()\n",
    "    cnt+=1\n",
    "print(len(condInput), len(genInput))"
   ]
  },
  {
   "cell_type": "code",
   "execution_count": 4,
   "metadata": {},
   "outputs": [
    {
     "name": "stdout",
     "output_type": "stream",
     "text": [
      "10649\n"
     ]
    }
   ],
   "source": [
    "#delete silent bars\n",
    "cInput = list()\n",
    "gInput = list()\n",
    "for _ in range(len(condInput)):\n",
    "    if condInput[_].sum() == 0 or genInput[_].sum() == 0:\n",
    "        continue;\n",
    "    i = condInput[_].numpy()\n",
    "    i = i / i.max()\n",
    "    i = torch.from_numpy(i)\n",
    "    i = i.type(torch.IntTensor)\n",
    "    cInput.append(i)\n",
    "    \n",
    "    i = genInput[_].numpy()\n",
    "    i = i / i.max()\n",
    "    i = torch.from_numpy(i)\n",
    "    i = i.type(torch.IntTensor)\n",
    "    gInput.append(i)\n",
    "    \n",
    "print(len(cInput))"
   ]
  },
  {
   "cell_type": "code",
   "execution_count": 5,
   "metadata": {},
   "outputs": [],
   "source": [
    "from torch.utils.data import Dataset\n",
    "\n",
    "#define custom Pytorch dataset\n",
    "#G : data use to generate (goes to conditioner in generator)\n",
    "#I : data to identify generator (goes to discriminator)\n",
    "\n",
    "class ProcessedDataset(Dataset):\n",
    "    def __init__(self, G, I):\n",
    "        self.Gdata = G\n",
    "        self.Idata = I\n",
    "    def __len__(self):\n",
    "        return len(self.Gdata)\n",
    "    def __getitem__(self, idx):\n",
    "        return self.Gdata[idx], self.Idata[idx]\n",
    "\n",
    "ps_data = ProcessedDataset(cInput[:10240], gInput[:10240])\n",
    "#save data\n",
    "torch.save(ps_data, \"./GandI_len128_10240.pt\")"
   ]
  },
  {
   "cell_type": "code",
   "execution_count": 6,
   "metadata": {
    "colab": {
     "base_uri": "https://localhost:8080/",
     "height": 283
    },
    "id": "TOKEM-83mF_F",
    "outputId": "bdf268d8-5a5f-4820-f5ce-a7e9f88cb2cd"
   },
   "outputs": [
    {
     "data": {
      "image/png": "[encoded data removed]",
      "text/plain": [
       "<Figure size 432x288 with 2 Axes>"
      ]
     },
     "metadata": {
      "image/png": {
       "height": 255,
       "width": 362
      }
     },
     "output_type": "display_data"
    }
   ],
   "source": [
    "#ckeck data is correct\n",
    "import numpy as np; np.random.seed(0)\n",
    "import seaborn as sns; sns.set_theme()\n",
    "ax = sns.heatmap(ps_data[0][0])"
   ]
  }
 ],
 "metadata": {
  "colab": {
   "name": "aiFinalDataProcess.ipynb",
   "provenance": []
  },
  "kernelspec": {
   "display_name": "Python 3",
   "language": "python",
   "name": "python3"
  },
  "language_info": {
   "codemirror_mode": {
    "name": "ipython",
    "version": 3
   },
   "file_extension": ".py",
   "mimetype": "text/x-python",
   "name": "python",
   "nbconvert_exporter": "python",
   "pygments_lexer": "ipython3",
   "version": "3.8.8"
  }
 },
 "nbformat": 4,
 "nbformat_minor": 1
}
